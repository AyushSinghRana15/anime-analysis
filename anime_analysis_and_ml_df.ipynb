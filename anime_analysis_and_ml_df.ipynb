{
 "cells": [
  {
   "cell_type": "code",
   "execution_count": 1,
   "id": "67664407",
   "metadata": {
    "_cell_guid": "b1076dfc-b9ad-4769-8c92-a6c4dae69d19",
    "_uuid": "8f2839f25d086af736a60e9eeb907d3b93b6e0e5",
    "execution": {
     "iopub.execute_input": "2025-07-25T14:52:23.282774Z",
     "iopub.status.busy": "2025-07-25T14:52:23.282485Z",
     "iopub.status.idle": "2025-07-25T14:52:26.758229Z",
     "shell.execute_reply": "2025-07-25T14:52:26.757160Z"
    },
    "papermill": {
     "duration": 3.481752,
     "end_time": "2025-07-25T14:52:26.759812",
     "exception": false,
     "start_time": "2025-07-25T14:52:23.278060",
     "status": "completed"
    },
    "tags": []
   },
   "outputs": [
    {
     "name": "stdout",
     "output_type": "stream",
     "text": [
      "/kaggle/input/user-animelist-dataset/ratings.csv\n",
      "/kaggle/input/user-animelist-dataset/pretrained_bert.pth\n",
      "/kaggle/input/user-animelist-dataset/ratings.npy\n",
      "/kaggle/input/user-animelist-dataset/dataset.pkl\n",
      "/kaggle/input/user-animelist-dataset/ratings.dat\n",
      "/kaggle/input/user-animelist-dataset/animes.csv\n",
      "/kaggle/input/user-animelist-dataset/random-sample_size100-seed98765.pkl\n",
      "/kaggle/input/user-animelist-dataset/id_to_genreids.json\n"
     ]
    }
   ],
   "source": [
    "import numpy as np # linear algebra\n",
    "import pandas as pd # data processing, CSV file I/O (e.g. pd.read_csv)\n",
    "import matplotlib.pyplot as plt # graphs and plots\n",
    "import seaborn as sns\n",
    "import os\n",
    "for dirname, _, filenames in os.walk('/kaggle/input/user-animelist-dataset'):\n",
    "    for filename in filenames:\n",
    "        print(os.path.join(dirname, filename))"
   ]
  },
  {
   "cell_type": "code",
   "execution_count": 2,
   "id": "e3a44f9c",
   "metadata": {
    "execution": {
     "iopub.execute_input": "2025-07-25T14:52:26.767147Z",
     "iopub.status.busy": "2025-07-25T14:52:26.766312Z",
     "iopub.status.idle": "2025-07-25T14:53:21.606635Z",
     "shell.execute_reply": "2025-07-25T14:53:21.605761Z"
    },
    "papermill": {
     "duration": 54.848015,
     "end_time": "2025-07-25T14:53:21.611009",
     "exception": false,
     "start_time": "2025-07-25T14:52:26.762994",
     "status": "completed"
    },
    "tags": []
   },
   "outputs": [
    {
     "data": {
      "text/html": [
       "<div>\n",
       "<style scoped>\n",
       "    .dataframe tbody tr th:only-of-type {\n",
       "        vertical-align: middle;\n",
       "    }\n",
       "\n",
       "    .dataframe tbody tr th {\n",
       "        vertical-align: top;\n",
       "    }\n",
       "\n",
       "    .dataframe thead th {\n",
       "        text-align: right;\n",
       "    }\n",
       "</style>\n",
       "<table border=\"1\" class=\"dataframe\">\n",
       "  <thead>\n",
       "    <tr style=\"text-align: right;\">\n",
       "      <th></th>\n",
       "      <th>animeID</th>\n",
       "      <th>title</th>\n",
       "      <th>alternative_title</th>\n",
       "      <th>type</th>\n",
       "      <th>year</th>\n",
       "      <th>score</th>\n",
       "      <th>episodes</th>\n",
       "      <th>mal_url</th>\n",
       "      <th>sequel</th>\n",
       "      <th>image_url</th>\n",
       "      <th>genres</th>\n",
       "      <th>genres_detailed</th>\n",
       "    </tr>\n",
       "  </thead>\n",
       "  <tbody>\n",
       "    <tr>\n",
       "      <th>0</th>\n",
       "      <td>1</td>\n",
       "      <td>Howl's Moving Castle</td>\n",
       "      <td>Howl no Ugoku Shiro</td>\n",
       "      <td>MOVIE</td>\n",
       "      <td>2004</td>\n",
       "      <td>8.41</td>\n",
       "      <td>1</td>\n",
       "      <td>https://myanimelist.net/anime/431</td>\n",
       "      <td>False</td>\n",
       "      <td>https://cdn.myanimelist.net/images/anime/1470/...</td>\n",
       "      <td>['Adventure', 'Award Winning', 'Drama', 'Fanta...</td>\n",
       "      <td>['action', 'adventure', 'age gap', 'air force'...</td>\n",
       "    </tr>\n",
       "    <tr>\n",
       "      <th>1</th>\n",
       "      <td>2</td>\n",
       "      <td>Death Note</td>\n",
       "      <td>NaN</td>\n",
       "      <td>TV</td>\n",
       "      <td>2006</td>\n",
       "      <td>8.63</td>\n",
       "      <td>37</td>\n",
       "      <td>https://myanimelist.net/anime/1535</td>\n",
       "      <td>False</td>\n",
       "      <td>https://cdn.myanimelist.net/images/anime/1079/...</td>\n",
       "      <td>['Supernatural', 'Suspense']</td>\n",
       "      <td>['achronological order', 'acting', 'adapted in...</td>\n",
       "    </tr>\n",
       "    <tr>\n",
       "      <th>2</th>\n",
       "      <td>3</td>\n",
       "      <td>Problem Children Are Coming from Another World...</td>\n",
       "      <td>Mondaiji-tachi ga Isekai kara Kuru Sou desu yo?</td>\n",
       "      <td>TV</td>\n",
       "      <td>2013</td>\n",
       "      <td>7.42</td>\n",
       "      <td>10</td>\n",
       "      <td>https://myanimelist.net/anime/15315</td>\n",
       "      <td>False</td>\n",
       "      <td>https://cdn.myanimelist.net/images/anime/12/43...</td>\n",
       "      <td>['Action', 'Comedy', 'Fantasy']</td>\n",
       "      <td>['action', 'alternative world', 'anthropomorph...</td>\n",
       "    </tr>\n",
       "    <tr>\n",
       "      <th>3</th>\n",
       "      <td>4</td>\n",
       "      <td>BTOOOM!</td>\n",
       "      <td>Btooom!</td>\n",
       "      <td>TV</td>\n",
       "      <td>2012</td>\n",
       "      <td>7.34</td>\n",
       "      <td>12</td>\n",
       "      <td>https://myanimelist.net/anime/14345</td>\n",
       "      <td>False</td>\n",
       "      <td>https://cdn.myanimelist.net/images/anime/4/409...</td>\n",
       "      <td>['Action', 'Sci-Fi', 'Suspense']</td>\n",
       "      <td>['achronological order', 'action', 'adventure'...</td>\n",
       "    </tr>\n",
       "    <tr>\n",
       "      <th>4</th>\n",
       "      <td>5</td>\n",
       "      <td>Sword Art Online</td>\n",
       "      <td>NaN</td>\n",
       "      <td>TV</td>\n",
       "      <td>2012</td>\n",
       "      <td>7.5</td>\n",
       "      <td>25</td>\n",
       "      <td>https://myanimelist.net/anime/11757</td>\n",
       "      <td>False</td>\n",
       "      <td>https://cdn.myanimelist.net/images/anime/11/39...</td>\n",
       "      <td>['Action', 'Adventure', 'Fantasy', 'Romance']</td>\n",
       "      <td>['action', 'action drama', 'adventure', 'alter...</td>\n",
       "    </tr>\n",
       "    <tr>\n",
       "      <th>5</th>\n",
       "      <td>6</td>\n",
       "      <td>Spirited Away</td>\n",
       "      <td>Sen to Chihiro no Kamikakushi</td>\n",
       "      <td>MOVIE</td>\n",
       "      <td>2001</td>\n",
       "      <td>8.64</td>\n",
       "      <td>1</td>\n",
       "      <td>https://myanimelist.net/anime/199</td>\n",
       "      <td>False</td>\n",
       "      <td>https://cdn.myanimelist.net/images/anime/6/795...</td>\n",
       "      <td>['Adventure', 'Award Winning', 'Fantasy']</td>\n",
       "      <td>['adventure', 'alternative world', 'anthropomo...</td>\n",
       "    </tr>\n",
       "    <tr>\n",
       "      <th>6</th>\n",
       "      <td>7</td>\n",
       "      <td>Princess Mononoke</td>\n",
       "      <td>Mononoke Hime</td>\n",
       "      <td>MOVIE</td>\n",
       "      <td>1997</td>\n",
       "      <td>8.59</td>\n",
       "      <td>1</td>\n",
       "      <td>https://myanimelist.net/anime/164</td>\n",
       "      <td>False</td>\n",
       "      <td>https://cdn.myanimelist.net/images/anime/1355/...</td>\n",
       "      <td>['Action', 'Adventure', 'Award Winning', 'Fant...</td>\n",
       "      <td>['action', 'adventure', 'against destiny', 'an...</td>\n",
       "    </tr>\n",
       "    <tr>\n",
       "      <th>7</th>\n",
       "      <td>8</td>\n",
       "      <td>Magi: The Labyrinth of Magic</td>\n",
       "      <td>NaN</td>\n",
       "      <td>TV</td>\n",
       "      <td>2012</td>\n",
       "      <td>8</td>\n",
       "      <td>25</td>\n",
       "      <td>https://myanimelist.net/anime/14513</td>\n",
       "      <td>False</td>\n",
       "      <td>https://cdn.myanimelist.net/images/anime/11/42...</td>\n",
       "      <td>['Action', 'Adventure', 'Fantasy']</td>\n",
       "      <td>['action', 'adventure', 'against destiny', 'al...</td>\n",
       "    </tr>\n",
       "    <tr>\n",
       "      <th>8</th>\n",
       "      <td>9</td>\n",
       "      <td>Accel World</td>\n",
       "      <td>NaN</td>\n",
       "      <td>TV</td>\n",
       "      <td>2012</td>\n",
       "      <td>7.31</td>\n",
       "      <td>24</td>\n",
       "      <td>https://myanimelist.net/anime/11759</td>\n",
       "      <td>False</td>\n",
       "      <td>https://cdn.myanimelist.net/images/anime/1002/...</td>\n",
       "      <td>['Action', 'Romance', 'Sci-Fi']</td>\n",
       "      <td>['action', 'alternative world', 'antihero', 'a...</td>\n",
       "    </tr>\n",
       "    <tr>\n",
       "      <th>9</th>\n",
       "      <td>10</td>\n",
       "      <td>Eden of The East</td>\n",
       "      <td>Higashi no Eden</td>\n",
       "      <td>TV</td>\n",
       "      <td>2009</td>\n",
       "      <td>7.81</td>\n",
       "      <td>11</td>\n",
       "      <td>https://myanimelist.net/anime/5630</td>\n",
       "      <td>False</td>\n",
       "      <td>https://cdn.myanimelist.net/images/anime/9/150...</td>\n",
       "      <td>['Award Winning', 'Mystery', 'Romance', 'Sci-F...</td>\n",
       "      <td>['action', 'adult cast', 'adventure', 'alterna...</td>\n",
       "    </tr>\n",
       "  </tbody>\n",
       "</table>\n",
       "</div>"
      ],
      "text/plain": [
       "   animeID                                              title  \\\n",
       "0        1                               Howl's Moving Castle   \n",
       "1        2                                         Death Note   \n",
       "2        3  Problem Children Are Coming from Another World...   \n",
       "3        4                                            BTOOOM!   \n",
       "4        5                                   Sword Art Online   \n",
       "5        6                                      Spirited Away   \n",
       "6        7                                  Princess Mononoke   \n",
       "7        8                       Magi: The Labyrinth of Magic   \n",
       "8        9                                        Accel World   \n",
       "9       10                                   Eden of The East   \n",
       "\n",
       "                                 alternative_title   type  year score  \\\n",
       "0                              Howl no Ugoku Shiro  MOVIE  2004  8.41   \n",
       "1                                              NaN     TV  2006  8.63   \n",
       "2  Mondaiji-tachi ga Isekai kara Kuru Sou desu yo?     TV  2013  7.42   \n",
       "3                                          Btooom!     TV  2012  7.34   \n",
       "4                                              NaN     TV  2012   7.5   \n",
       "5                    Sen to Chihiro no Kamikakushi  MOVIE  2001  8.64   \n",
       "6                                    Mononoke Hime  MOVIE  1997  8.59   \n",
       "7                                              NaN     TV  2012     8   \n",
       "8                                              NaN     TV  2012  7.31   \n",
       "9                                  Higashi no Eden     TV  2009  7.81   \n",
       "\n",
       "   episodes                              mal_url  sequel  \\\n",
       "0         1    https://myanimelist.net/anime/431   False   \n",
       "1        37   https://myanimelist.net/anime/1535   False   \n",
       "2        10  https://myanimelist.net/anime/15315   False   \n",
       "3        12  https://myanimelist.net/anime/14345   False   \n",
       "4        25  https://myanimelist.net/anime/11757   False   \n",
       "5         1    https://myanimelist.net/anime/199   False   \n",
       "6         1    https://myanimelist.net/anime/164   False   \n",
       "7        25  https://myanimelist.net/anime/14513   False   \n",
       "8        24  https://myanimelist.net/anime/11759   False   \n",
       "9        11   https://myanimelist.net/anime/5630   False   \n",
       "\n",
       "                                           image_url  \\\n",
       "0  https://cdn.myanimelist.net/images/anime/1470/...   \n",
       "1  https://cdn.myanimelist.net/images/anime/1079/...   \n",
       "2  https://cdn.myanimelist.net/images/anime/12/43...   \n",
       "3  https://cdn.myanimelist.net/images/anime/4/409...   \n",
       "4  https://cdn.myanimelist.net/images/anime/11/39...   \n",
       "5  https://cdn.myanimelist.net/images/anime/6/795...   \n",
       "6  https://cdn.myanimelist.net/images/anime/1355/...   \n",
       "7  https://cdn.myanimelist.net/images/anime/11/42...   \n",
       "8  https://cdn.myanimelist.net/images/anime/1002/...   \n",
       "9  https://cdn.myanimelist.net/images/anime/9/150...   \n",
       "\n",
       "                                              genres  \\\n",
       "0  ['Adventure', 'Award Winning', 'Drama', 'Fanta...   \n",
       "1                       ['Supernatural', 'Suspense']   \n",
       "2                    ['Action', 'Comedy', 'Fantasy']   \n",
       "3                   ['Action', 'Sci-Fi', 'Suspense']   \n",
       "4      ['Action', 'Adventure', 'Fantasy', 'Romance']   \n",
       "5          ['Adventure', 'Award Winning', 'Fantasy']   \n",
       "6  ['Action', 'Adventure', 'Award Winning', 'Fant...   \n",
       "7                 ['Action', 'Adventure', 'Fantasy']   \n",
       "8                    ['Action', 'Romance', 'Sci-Fi']   \n",
       "9  ['Award Winning', 'Mystery', 'Romance', 'Sci-F...   \n",
       "\n",
       "                                     genres_detailed  \n",
       "0  ['action', 'adventure', 'age gap', 'air force'...  \n",
       "1  ['achronological order', 'acting', 'adapted in...  \n",
       "2  ['action', 'alternative world', 'anthropomorph...  \n",
       "3  ['achronological order', 'action', 'adventure'...  \n",
       "4  ['action', 'action drama', 'adventure', 'alter...  \n",
       "5  ['adventure', 'alternative world', 'anthropomo...  \n",
       "6  ['action', 'adventure', 'against destiny', 'an...  \n",
       "7  ['action', 'adventure', 'against destiny', 'al...  \n",
       "8  ['action', 'alternative world', 'antihero', 'a...  \n",
       "9  ['action', 'adult cast', 'adventure', 'alterna...  "
      ]
     },
     "execution_count": 2,
     "metadata": {},
     "output_type": "execute_result"
    }
   ],
   "source": [
    "anime_df = pd.read_csv('/kaggle/input/user-animelist-dataset/animes.csv')\n",
    "ratings_df = pd.read_csv('/kaggle/input/user-animelist-dataset/ratings.csv')\n",
    "anime_df.head(10)"
   ]
  },
  {
   "cell_type": "code",
   "execution_count": 3,
   "id": "cec1d08d",
   "metadata": {
    "execution": {
     "iopub.execute_input": "2025-07-25T14:53:21.618458Z",
     "iopub.status.busy": "2025-07-25T14:53:21.617901Z",
     "iopub.status.idle": "2025-07-25T14:53:21.625906Z",
     "shell.execute_reply": "2025-07-25T14:53:21.625071Z"
    },
    "papermill": {
     "duration": 0.012944,
     "end_time": "2025-07-25T14:53:21.627173",
     "exception": false,
     "start_time": "2025-07-25T14:53:21.614229",
     "status": "completed"
    },
    "tags": []
   },
   "outputs": [
    {
     "data": {
      "text/html": [
       "<div>\n",
       "<style scoped>\n",
       "    .dataframe tbody tr th:only-of-type {\n",
       "        vertical-align: middle;\n",
       "    }\n",
       "\n",
       "    .dataframe tbody tr th {\n",
       "        vertical-align: top;\n",
       "    }\n",
       "\n",
       "    .dataframe thead th {\n",
       "        text-align: right;\n",
       "    }\n",
       "</style>\n",
       "<table border=\"1\" class=\"dataframe\">\n",
       "  <thead>\n",
       "    <tr style=\"text-align: right;\">\n",
       "      <th></th>\n",
       "      <th>userID</th>\n",
       "      <th>animeID</th>\n",
       "      <th>rating</th>\n",
       "    </tr>\n",
       "  </thead>\n",
       "  <tbody>\n",
       "    <tr>\n",
       "      <th>0</th>\n",
       "      <td>1</td>\n",
       "      <td>1</td>\n",
       "      <td>10</td>\n",
       "    </tr>\n",
       "    <tr>\n",
       "      <th>1</th>\n",
       "      <td>1</td>\n",
       "      <td>2</td>\n",
       "      <td>10</td>\n",
       "    </tr>\n",
       "    <tr>\n",
       "      <th>2</th>\n",
       "      <td>1</td>\n",
       "      <td>3</td>\n",
       "      <td>7</td>\n",
       "    </tr>\n",
       "    <tr>\n",
       "      <th>3</th>\n",
       "      <td>1</td>\n",
       "      <td>4</td>\n",
       "      <td>10</td>\n",
       "    </tr>\n",
       "    <tr>\n",
       "      <th>4</th>\n",
       "      <td>1</td>\n",
       "      <td>5</td>\n",
       "      <td>10</td>\n",
       "    </tr>\n",
       "    <tr>\n",
       "      <th>5</th>\n",
       "      <td>1</td>\n",
       "      <td>6</td>\n",
       "      <td>10</td>\n",
       "    </tr>\n",
       "    <tr>\n",
       "      <th>6</th>\n",
       "      <td>1</td>\n",
       "      <td>7</td>\n",
       "      <td>10</td>\n",
       "    </tr>\n",
       "    <tr>\n",
       "      <th>7</th>\n",
       "      <td>1</td>\n",
       "      <td>8</td>\n",
       "      <td>10</td>\n",
       "    </tr>\n",
       "    <tr>\n",
       "      <th>8</th>\n",
       "      <td>1</td>\n",
       "      <td>9</td>\n",
       "      <td>6</td>\n",
       "    </tr>\n",
       "    <tr>\n",
       "      <th>9</th>\n",
       "      <td>1</td>\n",
       "      <td>10</td>\n",
       "      <td>10</td>\n",
       "    </tr>\n",
       "  </tbody>\n",
       "</table>\n",
       "</div>"
      ],
      "text/plain": [
       "   userID  animeID  rating\n",
       "0       1        1      10\n",
       "1       1        2      10\n",
       "2       1        3       7\n",
       "3       1        4      10\n",
       "4       1        5      10\n",
       "5       1        6      10\n",
       "6       1        7      10\n",
       "7       1        8      10\n",
       "8       1        9       6\n",
       "9       1       10      10"
      ]
     },
     "execution_count": 3,
     "metadata": {},
     "output_type": "execute_result"
    }
   ],
   "source": [
    "ratings_df.head(10)"
   ]
  },
  {
   "cell_type": "code",
   "execution_count": 4,
   "id": "b95a1bb3",
   "metadata": {
    "execution": {
     "iopub.execute_input": "2025-07-25T14:53:21.634227Z",
     "iopub.status.busy": "2025-07-25T14:53:21.633729Z",
     "iopub.status.idle": "2025-07-25T14:53:21.667837Z",
     "shell.execute_reply": "2025-07-25T14:53:21.666714Z"
    },
    "papermill": {
     "duration": 0.039079,
     "end_time": "2025-07-25T14:53:21.669331",
     "exception": false,
     "start_time": "2025-07-25T14:53:21.630252",
     "status": "completed"
    },
    "tags": []
   },
   "outputs": [
    {
     "name": "stdout",
     "output_type": "stream",
     "text": [
      "<class 'pandas.core.frame.DataFrame'>\n",
      "RangeIndex: 20237 entries, 0 to 20236\n",
      "Data columns (total 12 columns):\n",
      " #   Column             Non-Null Count  Dtype \n",
      "---  ------             --------------  ----- \n",
      " 0   animeID            20237 non-null  int64 \n",
      " 1   title              20237 non-null  object\n",
      " 2   alternative_title  8676 non-null   object\n",
      " 3   type               20237 non-null  object\n",
      " 4   year               20237 non-null  object\n",
      " 5   score              20237 non-null  object\n",
      " 6   episodes           20237 non-null  int64 \n",
      " 7   mal_url            20237 non-null  object\n",
      " 8   sequel             20237 non-null  bool  \n",
      " 9   image_url          20237 non-null  object\n",
      " 10  genres             20237 non-null  object\n",
      " 11  genres_detailed    20237 non-null  object\n",
      "dtypes: bool(1), int64(2), object(9)\n",
      "memory usage: 1.7+ MB\n"
     ]
    }
   ],
   "source": [
    "anime_df.info()"
   ]
  },
  {
   "cell_type": "code",
   "execution_count": 5,
   "id": "ccf51a76",
   "metadata": {
    "execution": {
     "iopub.execute_input": "2025-07-25T14:53:21.676801Z",
     "iopub.status.busy": "2025-07-25T14:53:21.676522Z",
     "iopub.status.idle": "2025-07-25T14:53:21.686866Z",
     "shell.execute_reply": "2025-07-25T14:53:21.685957Z"
    },
    "papermill": {
     "duration": 0.015404,
     "end_time": "2025-07-25T14:53:21.688088",
     "exception": false,
     "start_time": "2025-07-25T14:53:21.672684",
     "status": "completed"
    },
    "tags": []
   },
   "outputs": [
    {
     "name": "stdout",
     "output_type": "stream",
     "text": [
      "<class 'pandas.core.frame.DataFrame'>\n",
      "RangeIndex: 148170496 entries, 0 to 148170495\n",
      "Data columns (total 3 columns):\n",
      " #   Column   Dtype\n",
      "---  ------   -----\n",
      " 0   userID   int64\n",
      " 1   animeID  int64\n",
      " 2   rating   int64\n",
      "dtypes: int64(3)\n",
      "memory usage: 3.3 GB\n"
     ]
    }
   ],
   "source": [
    "ratings_df.info()"
   ]
  },
  {
   "cell_type": "code",
   "execution_count": 6,
   "id": "dce011c5",
   "metadata": {
    "execution": {
     "iopub.execute_input": "2025-07-25T14:53:21.695354Z",
     "iopub.status.busy": "2025-07-25T14:53:21.695050Z",
     "iopub.status.idle": "2025-07-25T14:53:21.712761Z",
     "shell.execute_reply": "2025-07-25T14:53:21.711976Z"
    },
    "papermill": {
     "duration": 0.022728,
     "end_time": "2025-07-25T14:53:21.714085",
     "exception": false,
     "start_time": "2025-07-25T14:53:21.691357",
     "status": "completed"
    },
    "tags": []
   },
   "outputs": [
    {
     "data": {
      "text/html": [
       "<div>\n",
       "<style scoped>\n",
       "    .dataframe tbody tr th:only-of-type {\n",
       "        vertical-align: middle;\n",
       "    }\n",
       "\n",
       "    .dataframe tbody tr th {\n",
       "        vertical-align: top;\n",
       "    }\n",
       "\n",
       "    .dataframe thead th {\n",
       "        text-align: right;\n",
       "    }\n",
       "</style>\n",
       "<table border=\"1\" class=\"dataframe\">\n",
       "  <thead>\n",
       "    <tr style=\"text-align: right;\">\n",
       "      <th></th>\n",
       "      <th>animeID</th>\n",
       "      <th>episodes</th>\n",
       "    </tr>\n",
       "  </thead>\n",
       "  <tbody>\n",
       "    <tr>\n",
       "      <th>count</th>\n",
       "      <td>20237.000000</td>\n",
       "      <td>20237.000000</td>\n",
       "    </tr>\n",
       "    <tr>\n",
       "      <th>mean</th>\n",
       "      <td>10119.000000</td>\n",
       "      <td>12.746949</td>\n",
       "    </tr>\n",
       "    <tr>\n",
       "      <th>std</th>\n",
       "      <td>5842.063035</td>\n",
       "      <td>61.209654</td>\n",
       "    </tr>\n",
       "    <tr>\n",
       "      <th>min</th>\n",
       "      <td>1.000000</td>\n",
       "      <td>0.000000</td>\n",
       "    </tr>\n",
       "    <tr>\n",
       "      <th>25%</th>\n",
       "      <td>5060.000000</td>\n",
       "      <td>1.000000</td>\n",
       "    </tr>\n",
       "    <tr>\n",
       "      <th>50%</th>\n",
       "      <td>10119.000000</td>\n",
       "      <td>2.000000</td>\n",
       "    </tr>\n",
       "    <tr>\n",
       "      <th>75%</th>\n",
       "      <td>15178.000000</td>\n",
       "      <td>12.000000</td>\n",
       "    </tr>\n",
       "    <tr>\n",
       "      <th>max</th>\n",
       "      <td>20237.000000</td>\n",
       "      <td>3057.000000</td>\n",
       "    </tr>\n",
       "  </tbody>\n",
       "</table>\n",
       "</div>"
      ],
      "text/plain": [
       "            animeID      episodes\n",
       "count  20237.000000  20237.000000\n",
       "mean   10119.000000     12.746949\n",
       "std     5842.063035     61.209654\n",
       "min        1.000000      0.000000\n",
       "25%     5060.000000      1.000000\n",
       "50%    10119.000000      2.000000\n",
       "75%    15178.000000     12.000000\n",
       "max    20237.000000   3057.000000"
      ]
     },
     "execution_count": 6,
     "metadata": {},
     "output_type": "execute_result"
    }
   ],
   "source": [
    "anime_df.describe()"
   ]
  },
  {
   "cell_type": "code",
   "execution_count": 7,
   "id": "d4a02845",
   "metadata": {
    "execution": {
     "iopub.execute_input": "2025-07-25T14:53:21.722009Z",
     "iopub.status.busy": "2025-07-25T14:53:21.721700Z",
     "iopub.status.idle": "2025-07-25T14:53:34.820974Z",
     "shell.execute_reply": "2025-07-25T14:53:34.820104Z"
    },
    "papermill": {
     "duration": 13.104764,
     "end_time": "2025-07-25T14:53:34.822349",
     "exception": false,
     "start_time": "2025-07-25T14:53:21.717585",
     "status": "completed"
    },
    "tags": []
   },
   "outputs": [
    {
     "data": {
      "text/html": [
       "<div>\n",
       "<style scoped>\n",
       "    .dataframe tbody tr th:only-of-type {\n",
       "        vertical-align: middle;\n",
       "    }\n",
       "\n",
       "    .dataframe tbody tr th {\n",
       "        vertical-align: top;\n",
       "    }\n",
       "\n",
       "    .dataframe thead th {\n",
       "        text-align: right;\n",
       "    }\n",
       "</style>\n",
       "<table border=\"1\" class=\"dataframe\">\n",
       "  <thead>\n",
       "    <tr style=\"text-align: right;\">\n",
       "      <th></th>\n",
       "      <th>userID</th>\n",
       "      <th>animeID</th>\n",
       "      <th>rating</th>\n",
       "    </tr>\n",
       "  </thead>\n",
       "  <tbody>\n",
       "    <tr>\n",
       "      <th>count</th>\n",
       "      <td>1.481705e+08</td>\n",
       "      <td>1.481705e+08</td>\n",
       "      <td>1.481705e+08</td>\n",
       "    </tr>\n",
       "    <tr>\n",
       "      <th>mean</th>\n",
       "      <td>1.007461e+06</td>\n",
       "      <td>2.386600e+03</td>\n",
       "      <td>7.645126e+00</td>\n",
       "    </tr>\n",
       "    <tr>\n",
       "      <th>std</th>\n",
       "      <td>4.675216e+05</td>\n",
       "      <td>2.204748e+03</td>\n",
       "      <td>1.894062e+00</td>\n",
       "    </tr>\n",
       "    <tr>\n",
       "      <th>min</th>\n",
       "      <td>1.000000e+00</td>\n",
       "      <td>1.000000e+00</td>\n",
       "      <td>0.000000e+00</td>\n",
       "    </tr>\n",
       "    <tr>\n",
       "      <th>25%</th>\n",
       "      <td>7.384580e+05</td>\n",
       "      <td>7.010000e+02</td>\n",
       "      <td>7.000000e+00</td>\n",
       "    </tr>\n",
       "    <tr>\n",
       "      <th>50%</th>\n",
       "      <td>1.037019e+06</td>\n",
       "      <td>1.782000e+03</td>\n",
       "      <td>8.000000e+00</td>\n",
       "    </tr>\n",
       "    <tr>\n",
       "      <th>75%</th>\n",
       "      <td>1.387441e+06</td>\n",
       "      <td>3.470000e+03</td>\n",
       "      <td>9.000000e+00</td>\n",
       "    </tr>\n",
       "    <tr>\n",
       "      <th>max</th>\n",
       "      <td>1.774522e+06</td>\n",
       "      <td>2.023700e+04</td>\n",
       "      <td>1.000000e+01</td>\n",
       "    </tr>\n",
       "  </tbody>\n",
       "</table>\n",
       "</div>"
      ],
      "text/plain": [
       "             userID       animeID        rating\n",
       "count  1.481705e+08  1.481705e+08  1.481705e+08\n",
       "mean   1.007461e+06  2.386600e+03  7.645126e+00\n",
       "std    4.675216e+05  2.204748e+03  1.894062e+00\n",
       "min    1.000000e+00  1.000000e+00  0.000000e+00\n",
       "25%    7.384580e+05  7.010000e+02  7.000000e+00\n",
       "50%    1.037019e+06  1.782000e+03  8.000000e+00\n",
       "75%    1.387441e+06  3.470000e+03  9.000000e+00\n",
       "max    1.774522e+06  2.023700e+04  1.000000e+01"
      ]
     },
     "execution_count": 7,
     "metadata": {},
     "output_type": "execute_result"
    }
   ],
   "source": [
    "ratings_df.describe()"
   ]
  },
  {
   "cell_type": "code",
   "execution_count": 8,
   "id": "49221ef5",
   "metadata": {
    "execution": {
     "iopub.execute_input": "2025-07-25T14:53:34.830570Z",
     "iopub.status.busy": "2025-07-25T14:53:34.830232Z",
     "iopub.status.idle": "2025-07-25T14:53:34.834881Z",
     "shell.execute_reply": "2025-07-25T14:53:34.834000Z"
    },
    "papermill": {
     "duration": 0.010363,
     "end_time": "2025-07-25T14:53:34.836237",
     "exception": false,
     "start_time": "2025-07-25T14:53:34.825874",
     "status": "completed"
    },
    "tags": []
   },
   "outputs": [
    {
     "name": "stdout",
     "output_type": "stream",
     "text": [
      "Anime metadata :  (20237, 12)\n",
      "Anime Ratings :  (148170496, 3)\n"
     ]
    }
   ],
   "source": [
    "print(\"Anime metadata : \",anime_df.shape)\n",
    "print(\"Anime Ratings : \",ratings_df.shape)"
   ]
  },
  {
   "cell_type": "code",
   "execution_count": 9,
   "id": "dc03b3c5",
   "metadata": {
    "execution": {
     "iopub.execute_input": "2025-07-25T14:53:34.844921Z",
     "iopub.status.busy": "2025-07-25T14:53:34.844155Z",
     "iopub.status.idle": "2025-07-25T14:54:24.390828Z",
     "shell.execute_reply": "2025-07-25T14:54:24.389856Z"
    },
    "papermill": {
     "duration": 49.555663,
     "end_time": "2025-07-25T14:54:24.395474",
     "exception": false,
     "start_time": "2025-07-25T14:53:34.839811",
     "status": "completed"
    },
    "tags": []
   },
   "outputs": [
    {
     "name": "stdout",
     "output_type": "stream",
     "text": [
      "Duplicate Values in Anime Metadata observations dataset :  0\n",
      "Duplicate Values in Anime Ratings dataset :  3329887\n"
     ]
    }
   ],
   "source": [
    "print(\"Duplicate Values in Anime Metadata observations dataset : \",anime_df.duplicated().sum())\n",
    "print(\"Duplicate Values in Anime Ratings dataset : \",ratings_df.duplicated().sum())"
   ]
  },
  {
   "cell_type": "code",
   "execution_count": 10,
   "id": "c3a7fe6e",
   "metadata": {
    "execution": {
     "iopub.execute_input": "2025-07-25T14:54:24.404983Z",
     "iopub.status.busy": "2025-07-25T14:54:24.404697Z",
     "iopub.status.idle": "2025-07-25T14:54:24.911807Z",
     "shell.execute_reply": "2025-07-25T14:54:24.910730Z"
    },
    "papermill": {
     "duration": 0.514468,
     "end_time": "2025-07-25T14:54:24.913591",
     "exception": false,
     "start_time": "2025-07-25T14:54:24.399123",
     "status": "completed"
    },
    "tags": []
   },
   "outputs": [
    {
     "name": "stdout",
     "output_type": "stream",
     "text": [
      "animeID                  0\n",
      "title                    0\n",
      "alternative_title    11561\n",
      "type                     0\n",
      "year                     0\n",
      "score                    0\n",
      "episodes                 0\n",
      "mal_url                  0\n",
      "sequel                   0\n",
      "image_url                0\n",
      "genres                   0\n",
      "genres_detailed          0\n",
      "dtype: int64\n",
      "\n",
      "userID     0\n",
      "animeID    0\n",
      "rating     0\n",
      "dtype: int64\n"
     ]
    }
   ],
   "source": [
    "#null data\n",
    "print(anime_df.isnull().sum())\n",
    "print()\n",
    "print(ratings_df.isnull().sum())"
   ]
  },
  {
   "cell_type": "code",
   "execution_count": 11,
   "id": "c2ce4c83",
   "metadata": {
    "execution": {
     "iopub.execute_input": "2025-07-25T14:54:24.922542Z",
     "iopub.status.busy": "2025-07-25T14:54:24.921870Z",
     "iopub.status.idle": "2025-07-25T14:54:24.926524Z",
     "shell.execute_reply": "2025-07-25T14:54:24.925663Z"
    },
    "papermill": {
     "duration": 0.010391,
     "end_time": "2025-07-25T14:54:24.927894",
     "exception": false,
     "start_time": "2025-07-25T14:54:24.917503",
     "status": "completed"
    },
    "tags": []
   },
   "outputs": [
    {
     "name": "stdout",
     "output_type": "stream",
     "text": [
      "Index(['animeID', 'title', 'alternative_title', 'type', 'year', 'score',\n",
      "       'episodes', 'mal_url', 'sequel', 'image_url', 'genres',\n",
      "       'genres_detailed'],\n",
      "      dtype='object')\n",
      "Index(['userID', 'animeID', 'rating'], dtype='object')\n"
     ]
    }
   ],
   "source": [
    "print(anime_df.columns)\n",
    "print(ratings_df.columns)"
   ]
  },
  {
   "cell_type": "code",
   "execution_count": null,
   "id": "3c72e03f",
   "metadata": {
    "papermill": {
     "duration": 0.003371,
     "end_time": "2025-07-25T14:54:24.934990",
     "exception": false,
     "start_time": "2025-07-25T14:54:24.931619",
     "status": "completed"
    },
    "tags": []
   },
   "outputs": [],
   "source": []
  }
 ],
 "metadata": {
  "kaggle": {
   "accelerator": "none",
   "dataSources": [
    {
     "datasetId": 7829647,
     "sourceId": 12529311,
     "sourceType": "datasetVersion"
    }
   ],
   "dockerImageVersionId": 31089,
   "isGpuEnabled": false,
   "isInternetEnabled": true,
   "language": "python",
   "sourceType": "notebook"
  },
  "kernelspec": {
   "display_name": "Python 3",
   "language": "python",
   "name": "python3"
  },
  "language_info": {
   "codemirror_mode": {
    "name": "ipython",
    "version": 3
   },
   "file_extension": ".py",
   "mimetype": "text/x-python",
   "name": "python",
   "nbconvert_exporter": "python",
   "pygments_lexer": "ipython3",
   "version": "3.11.13"
  },
  "papermill": {
   "default_parameters": {},
   "duration": 126.982272,
   "end_time": "2025-07-25T14:54:25.557852",
   "environment_variables": {},
   "exception": null,
   "input_path": "__notebook__.ipynb",
   "output_path": "__notebook__.ipynb",
   "parameters": {},
   "start_time": "2025-07-25T14:52:18.575580",
   "version": "2.6.0"
  }
 },
 "nbformat": 4,
 "nbformat_minor": 5
}
